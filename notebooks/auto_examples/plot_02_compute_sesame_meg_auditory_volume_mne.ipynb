{
  "cells": [
    {
      "cell_type": "markdown",
      "metadata": {},
      "source": [
        "\n# Compute SESAME inverse solution on evoked data in volume source space\n\nIn this example we shall compute SESAME inverse solution on evoked data in\na volume source space. Data are taken from the MNE-Python\n[sample](https://mne.tools/stable/generated/mne.datasets.sample.data_path.html#mne.datasets.sample.data_path)\ndataset and correspond to the response to an auditory stimulus.\n"
      ]
    },
    {
      "cell_type": "code",
      "execution_count": null,
      "metadata": {
        "collapsed": false
      },
      "outputs": [],
      "source": [
        "# Authors: Gianvittorio Luria <luria@dima.unige.it>\n#          Sara Sommariva <sommariva@dima.unige.it>\n#          Alberto Sorrentino <sorrentino@dima.unige.it>\n#\n# License: BSD (3-clause)\n\n# sphinx_gallery_thumbnail_number = 3\n\nfrom os import path as op\nimport matplotlib.pyplot as plt\nimport numpy as np\nfrom nilearn.plotting import plot_stat_map\nfrom nilearn.image import index_img\nfrom mne import read_forward_solution, pick_types_forward, read_evokeds, \\\n    read_trans, head_to_mri\nfrom mne.datasets import sample\nfrom mne.label import _n_colors\nfrom sesameeg.mne import prepare_sesame\nimport time\n\n\ndata_path = sample.data_path()\nsubject = 'sample'\nsubjects_dir = op.join(data_path, 'subjects')\nfname_fwd = op.join(data_path, 'MEG', subject,\n                    'sample_audvis-meg-vol-7-fwd.fif')\nfname_trans = op.join(data_path, 'MEG', subject,\n                      'sample_audvis_raw-trans.fif')\nfname_t1 = op.join(data_path , 'subjects', subject, 'mri', 'T1.mgz')\nfname_evoked = op.join(data_path, 'MEG', subject, 'sample_audvis-ave.fif')"
      ]
    },
    {
      "cell_type": "markdown",
      "metadata": {},
      "source": [
        "Load the  mri-to-head coordinates transformation matrix, the forward solution\n$\\textbf{G}$ and the evoked data $\\textbf{y}$.\nThe forward solution also defines the employed brain discretization which, in this example,\ncomprises the whole brain volume.\n\n"
      ]
    },
    {
      "cell_type": "code",
      "execution_count": null,
      "metadata": {
        "collapsed": false
      },
      "outputs": [],
      "source": [
        "# Transformation matrix\ntrans = read_trans(fname_trans)\n\n# Choose sensor type\nmeg_sensor_type = True  # All meg sensors will be included\neeg_sensor_type = False\n\n# Forward solution\nfwd = read_forward_solution(fname_fwd, exclude='bads')\nfwd = pick_types_forward(fwd, meg=meg_sensor_type, eeg=eeg_sensor_type, ref_meg=False)\n\n# Evoked Data\ncondition = 'Left Auditory'\nevoked = read_evokeds(fname_evoked, condition=condition, baseline=(None, 0))\nevoked = evoked.pick('meg', exclude='bads')"
      ]
    },
    {
      "cell_type": "markdown",
      "metadata": {},
      "source": [
        "Define the parameters.\n\n"
      ]
    },
    {
      "cell_type": "code",
      "execution_count": null,
      "metadata": {
        "collapsed": false
      },
      "outputs": [],
      "source": [
        "time_min, time_max = 0.045, 0.135  # Select N100m\nsubsample = None\nsample_min, sample_max = evoked.time_as_index([time_min, time_max], use_rounding=True)\n\n# To accelerate the run time of this example, we use a small number of\n# particles. We recall that the parameter ``n_parts`` represents, roughly speaking,\n# the number of candidate solutions that are tested in the Monte Carlo procedure;\n# larger values yield in principle more accurate reconstructions but also entail a\n# higher computational cost. Setting the value to about a hundred seems to represent\n# a good trade\u2013off.\nn_parts = 10\n# If None, noise_std and dip_mom_std will be estimated by SESAME.\nnoise_std = None\ndip_mom_std = None\nnoise_cov = None\n\n# You can make SESAME pre-whiten the data by providing a noise covariance\n# from mne import read_cov\n# fname_cov = op.join(sample.data_path(), 'MEG', subject,\n#                    'sample_audvis-cov.fif')\n# noise_cov = read_cov(fname_cov)"
      ]
    },
    {
      "cell_type": "markdown",
      "metadata": {},
      "source": [
        "Visualize the selected data.\n\n"
      ]
    },
    {
      "cell_type": "code",
      "execution_count": null,
      "metadata": {
        "collapsed": false
      },
      "outputs": [],
      "source": [
        "lst = evoked.plot_joint(show=False)\nfor fig in lst:\n    ax = fig.get_axes()\n    ax[0].axvline(time_min, color='r', linewidth=2.0)\n    ax[0].axvline(time_max, color='r', linewidth=2.0)\nplt.show()"
      ]
    },
    {
      "cell_type": "markdown",
      "metadata": {},
      "source": [
        "Apply SESAME.\n\n"
      ]
    },
    {
      "cell_type": "code",
      "execution_count": null,
      "metadata": {
        "collapsed": false
      },
      "outputs": [],
      "source": [
        "_sesame = prepare_sesame(fwd, evoked, n_parts=n_parts, noise_std=noise_std,\n                         top_min=time_min, top_max=time_max, dip_mom_std=dip_mom_std,\n                         hyper_q=True, noise_cov=noise_cov, subsample=subsample,\n                         subject=subject, subjects_dir=subjects_dir, trans_matrix=trans)\ntime_start = time.time()\n_sesame.apply_sesame()\ntime_elapsed = (time.time() - time_start)\nprint(f'    Total computation time: {round(time_elapsed, 2)} seconds.')\n\n# Compute goodness of fit\ngof = _sesame.goodness_of_fit()\nprint('    Goodness of fit with the recorded data: {0}%'.format(round(gof, 4) * 100))"
      ]
    },
    {
      "cell_type": "markdown",
      "metadata": {},
      "source": [
        "Visualize the posterior map of the dipoles' location\n$p(r| \\textbf{y}, 2)$ as an overlay onto the MRI.\n\n"
      ]
    },
    {
      "cell_type": "code",
      "execution_count": null,
      "metadata": {
        "collapsed": false
      },
      "outputs": [],
      "source": [
        "_sesame.plot_sources(plot_kwargs={'distance': 650})"
      ]
    },
    {
      "cell_type": "markdown",
      "metadata": {},
      "source": [
        "Visualize amplitude of the estimated sources as function of time.\n\n"
      ]
    },
    {
      "cell_type": "code",
      "execution_count": null,
      "metadata": {
        "collapsed": false
      },
      "outputs": [],
      "source": [
        "_sesame.plot_source_amplitudes()"
      ]
    },
    {
      "cell_type": "markdown",
      "metadata": {},
      "source": [
        "Save results.\n\n"
      ]
    },
    {
      "cell_type": "code",
      "execution_count": null,
      "metadata": {
        "collapsed": false
      },
      "outputs": [],
      "source": [
        "# You can save SESAME result in an HDF5 file with:\n# _sesame.save_h5(save_fname, sbj=subject, data_path=fname_evoked, fwd_path=fname_fwd)\n\n# You can save SESAME result in a Pickle file with:\n# _sesame.save_pkl(save_fname, sbj=subject, data_path=fname_evoked, fwd_path=fname_fwd)"
      ]
    }
  ],
  "metadata": {
    "kernelspec": {
      "display_name": "Python 3",
      "language": "python",
      "name": "python3"
    },
    "language_info": {
      "codemirror_mode": {
        "name": "ipython",
        "version": 3
      },
      "file_extension": ".py",
      "mimetype": "text/x-python",
      "name": "python",
      "nbconvert_exporter": "python",
      "pygments_lexer": "ipython3",
      "version": "3.9.21"
    }
  },
  "nbformat": 4,
  "nbformat_minor": 0
}