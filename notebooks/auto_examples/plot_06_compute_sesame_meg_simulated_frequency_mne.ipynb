{
  "cells": [
    {
      "cell_type": "markdown",
      "metadata": {},
      "source": [
        "\n# Compute SESAME inverse solution on simulated data in the frequency domain\n\nIn the present example we shall devise a synthetic scenario in which\ntwo dipolar sources are active in the cortex. The source time courses\nare 10 Hz sinusoids, each modulated by a Gaussian. Simulated MEG recordings\nare then corrupted by empty room noise.\n\nWe shall use SESAME in the frequency domain [1]_ and see if we can find our two\nsimulated sources.\n\n## References\n.. [1] G. Luria et al.,  [Bayesian multi-dipole modelling in the frequency\n   domain](https://doi.org/10.1016/j.jneumeth.2018.11.007). J. Neurosci.\n   Meth., 312 (2019) 27\u201336\n"
      ]
    },
    {
      "cell_type": "code",
      "execution_count": null,
      "metadata": {
        "collapsed": false
      },
      "outputs": [],
      "source": [
        "# Author: Gianvittorio Luria <luria@dima.unige.it>\n#\n# License: BSD (3-clause)\n\nimport os.path as op\nimport numpy as np\nfrom scipy.signal import welch, coherence\nfrom matplotlib import pyplot as plt\n\nimport mne\nfrom mne.datasets import sample\n\nfrom sesameeg.mne import prepare_sesame\n\n\n# We use the MEG and MRI setup from the MNE-Python\n# sample dataset\ndata_path = sample.data_path(download=False)\nsubjects_dir = op.join(data_path, 'subjects')\nsubject = 'sample'\n\nmeg_path = op.join(data_path, 'MEG', 'sample')\nraw_fname = op.join(meg_path, 'sample_audvis_raw.fif')\nfwd_fname = op.join(meg_path, 'sample_audvis-meg-eeg-oct-6-fwd.fif')\nerm_fname = op.join(meg_path, 'ernoise_raw.fif')\nerm_cov_fname = op.join(meg_path, 'ernoise-cov.fif')\n\n# Seed for the random number generator\nrand = np.random.RandomState(42)"
      ]
    },
    {
      "cell_type": "markdown",
      "metadata": {},
      "source": [
        "Load the info, the forward solution and the noise covariance\nThe forward solution also defines the employed brain discretization.\n\n"
      ]
    },
    {
      "cell_type": "code",
      "execution_count": null,
      "metadata": {
        "collapsed": false
      },
      "outputs": [],
      "source": [
        "info = mne.io.read_info(raw_fname)\nfwd = mne.read_forward_solution(fwd_fname)\nnoise_cov = mne.read_cov(erm_cov_fname)"
      ]
    },
    {
      "cell_type": "markdown",
      "metadata": {},
      "source": [
        "In this example, to save computation time, we shall only simulate gradiometer\ndata. You can try simulating other types of sensors as well.\n\n"
      ]
    },
    {
      "cell_type": "code",
      "execution_count": null,
      "metadata": {
        "collapsed": false
      },
      "outputs": [],
      "source": [
        "picks = mne.pick_types(info, meg='grad', stim=False, exclude='bads')\nmne.pick_info(info, picks, copy=False)\nfwd = mne.pick_channels_forward(fwd, include=info['ch_names'])\nnoise_cov = mne.pick_channels_cov(noise_cov, include=info['ch_names'])"
      ]
    },
    {
      "cell_type": "markdown",
      "metadata": {},
      "source": [
        "## Data simulation\n\nThe following function generates a timeseries that contains an oscillator,\nmodulated by a Gaussian. The frequency of the oscillator fluctuates a little\nover time, but stays close to 10 Hz.\n\n"
      ]
    },
    {
      "cell_type": "code",
      "execution_count": null,
      "metadata": {
        "collapsed": false
      },
      "outputs": [],
      "source": [
        "def gen_signal(times, base_freq, rand=None, t_rand=1e-3, std_rand=0.1, g_sigma=None, g_mu_shift=None):\n    \"\"\"Generate an oscillating signal with a Gaussian envelope.\n\n    Parameters\n    ----------\n    times : array\n        Times\n    base_freq : float\n        Base frequency of the oscillators in Hertz\n    t_rand : float\n        Variation in the instantaneous frequency of the signal\n    std_rand : float\n        Std-dev of the random fluctuations added to the signal\n    g_sigma : float\n        Standard deviation of the enveloping Gaussian\n    g_mu_shift: float\n        Shift (in seconds) of the mean of the enveloping Gaussian with respect to the\n        middle of the time window\n\n    Returns\n    -------\n    signal : ndarray\n        The generated signal.\n    \"\"\"\n\n    n_times = len(times)\n\n    mu_0 = np.floor(times.shape[0] / 2)\n    mu_shift = int(g_mu_shift * sfreq)\n    mu = int(mu_0 + mu_shift) / sfreq\n    gauss = np.exp(-np.power(times - mu, 2.) / (2 * np.power(g_sigma, 2.)))\n\n    if rand is not None:\n        # Generate an oscillator with varying frequency and phase lag.\n        signal = np.sin(2.0 * np.pi * (base_freq * np.arange(n_times) / sfreq +\n                                       np.cumsum(t_rand * rand.randn(n_times))))\n\n        # Add some random fluctuations to the signal.\n        signal += std_rand * rand.randn(n_times)\n    else:\n        signal = np.sin(2.0 * np.pi * (base_freq * np.arange(n_times) / sfreq +\n                                       np.cumsum(t_rand * np.random.randn(n_times))))\n        signal += std_rand * np.random.randn(n_times)\n\n    # Scale the signal to be in the right order of magnitude (~100 nAm)\n    # for MEG data.\n    signal *= 100e-9 * gauss\n\n    return signal"
      ]
    },
    {
      "cell_type": "markdown",
      "metadata": {},
      "source": [
        "We now simulate two timeseries and plot some basic information about them.\n\n"
      ]
    },
    {
      "cell_type": "code",
      "execution_count": null,
      "metadata": {
        "collapsed": false
      },
      "outputs": [],
      "source": [
        "sfreq = info['sfreq']\nn_sample = int(round(5. * sfreq))\ntimes = np.arange(n_sample) / sfreq\nsignal1 = gen_signal(times, 10., g_sigma=.5, g_mu_shift=0)\nsignal2 = gen_signal(times, 10., g_sigma=.5, g_mu_shift=.5)\nq = np.vstack((signal1, signal2))\n\nfig, axes = plt.subplots(2, 2, figsize=(8, 4))\n\n# Plot the timeseries\nax = axes[0][0]\nax.plot(times, 1e9 * signal1, lw=0.5)\nax.set(xlabel='Time (s)', xlim=times[[0, -1]], ylabel='Amplitude (Am)',\n       title='Signal 1')\nax = axes[0][1]\nax.plot(times, 1e9 * signal2, lw=0.5, color = 'r')\nax.set(xlabel='Time (s)', xlim=times[[0, -1]], title='Signal 2')\n\n# Power spectrum of the first timeseries\nf, p = welch(signal1, fs=sfreq, nperseg=128, nfft=256)\nax = axes[1][0]\n# Only plot the first 100 frequencies\nax.plot(f[:100], 20 * np.log10(p[:100]), lw=1.)\nax.set(xlabel='Frequency (Hz)', xlim=f[[0, 99]],\n       ylabel='Power (dB)', title='Power spectrum of signal 1')\n\n# Compute the coherence between the two timeseries\nf, coh = coherence(signal1, signal2, fs=sfreq, nperseg=100, noverlap=64)\nax = axes[1][1]\nax.plot(f[:50], coh[:50], lw=1.)\nax.set(xlabel='Frequency (Hz)', xlim=f[[0, 49]], ylabel='Coherence',\n       title='Coherence between the timeseries')\nfig.tight_layout()"
      ]
    },
    {
      "cell_type": "markdown",
      "metadata": {},
      "source": [
        "Now we put the signals at two locations on the cortex. To do so, we construct\na :py:class:`mne.SourceEstimate` object to store them in.\n\n"
      ]
    },
    {
      "cell_type": "code",
      "execution_count": null,
      "metadata": {
        "collapsed": false
      },
      "outputs": [],
      "source": [
        "# The locations on the cortex where the signal will originate from are\n# indicated as source space grid points indices.\nvertices = [[146374], [33830]]\nvertno = np.hstack([fwd['src'][0]['vertno'], fwd['src'][1]['vertno']])\ntrue_locs = list()\nfor v in vertices:\n    true_locs.append(np.where(vertno == v[0])[0][0])\n\n# Construct SourceEstimates that describe the signals at the cortical level.\nstc_signal = mne.SourceEstimate(q, vertices, tmin=0, tstep=1. / sfreq, subject='sample')"
      ]
    },
    {
      "cell_type": "markdown",
      "metadata": {},
      "source": [
        "Now we run the signal through the forward model to obtain simulated sensor\ndata. We then corrupt the resulting simulated gradiometer recordings\nby empty room noise.\n\n"
      ]
    },
    {
      "cell_type": "code",
      "execution_count": null,
      "metadata": {
        "collapsed": false
      },
      "outputs": [],
      "source": [
        "evoked = mne.apply_forward(fwd, stc_signal, info)\nmne.simulation.add_noise(evoked, noise_cov, random_state=rand)"
      ]
    },
    {
      "cell_type": "markdown",
      "metadata": {},
      "source": [
        "Visualize the data\n\n"
      ]
    },
    {
      "cell_type": "code",
      "execution_count": null,
      "metadata": {
        "collapsed": false
      },
      "outputs": [],
      "source": [
        "evoked.plot()\n_t = evoked.times[(2.0 < evoked.times) & (evoked.times < 3.5)]\nevoked.plot_topomap(times=_t[::50], nrows=3)\nplt.show()"
      ]
    },
    {
      "cell_type": "markdown",
      "metadata": {},
      "source": [
        "Define the parameters and apply SESAME. We convert the data to the frequency\ndomain by setting ``fourier=True``.\n\n"
      ]
    },
    {
      "cell_type": "code",
      "execution_count": null,
      "metadata": {
        "collapsed": false
      },
      "outputs": [],
      "source": [
        "n_parts = 100\nnoise_std = None\ndip_mom_std = None\nfreq_min = 9.5\nfreq_max = 10.5\n\n_sesame = prepare_sesame(fwd, evoked, n_parts=n_parts, noise_std=noise_std,\n                         top_min=freq_min, top_max=freq_max, dip_mom_std=dip_mom_std,\n                         hyper_q=True, fourier=True, subject=subject, subjects_dir=subjects_dir)\n\n_sesame.apply_sesame()\nprint('    Estimated source locations: {0}'.format(_sesame.est_locs[-1]))\nprint('    True source locations: {0}'.format(true_locs))\n\n# Compute goodness of fit\ngof = _sesame.goodness_of_fit()\nprint('    Goodness of fit with the recorded data: {0}%'.format(round(gof, 4) * 100))\n\n# Compute source dispersion\nsd = _sesame.source_dispersion()\nprint('    Source Dispersion: {0} mm'.format(round(sd, 2)))"
      ]
    },
    {
      "cell_type": "markdown",
      "metadata": {},
      "source": [
        "Visualize the posterior map of the dipoles' location\n$p(r| \\textbf{y}, 2)$ and the estimated sources on the inflated brain.\nIf window closes unexpectedly, set force_open=True\n\n"
      ]
    },
    {
      "cell_type": "code",
      "execution_count": null,
      "metadata": {
        "collapsed": false
      },
      "outputs": [],
      "source": [
        "_sesame.plot_sources(true_sources=true_locs, force_open=False, plot_kwargs={'distance': 650})"
      ]
    }
  ],
  "metadata": {
    "kernelspec": {
      "display_name": "Python 3",
      "language": "python",
      "name": "python3"
    },
    "language_info": {
      "codemirror_mode": {
        "name": "ipython",
        "version": 3
      },
      "file_extension": ".py",
      "mimetype": "text/x-python",
      "name": "python",
      "nbconvert_exporter": "python",
      "pygments_lexer": "ipython3",
      "version": "3.9.21"
    }
  },
  "nbformat": 4,
  "nbformat_minor": 0
}