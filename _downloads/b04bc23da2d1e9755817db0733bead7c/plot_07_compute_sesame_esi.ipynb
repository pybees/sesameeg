{
  "cells": [
    {
      "cell_type": "markdown",
      "metadata": {},
      "source": [
        "\n# Compute SESAME inverse solution on high-density EEG data\n\nIn the present example we shall show how to perform a source modeling analysis\nusing SESAME as a standalone software.\n\nThe data belongs to a recently published EEG  [dataset](https://gin.g-node.org/ezemikulan/Localize-MI)\nof high-density (256 channels) scalp recordings\ncombined with a ground truth single dipolar source systematically provided through a brief current\ninjection between two adjacent intracranial electrodes whose position is known with\nmillimetric precision [1]_ [2]_ .\n\n## References\n.. [1] Mikulan et al., [Simultaneous human intracerebral stimulation and HD-EEG, ground-truth\n   for source localization methods](https://doi.org/10.1038/s41597-020-0467-x). Sci Data, 7 (2020)\n\n.. [2] Pascarella et al., [An in--vivo validation of ESI methods with focal\n   sources](https://doi.org/10.1016/j.neuroimage.2023.120219). NeuroImage, 277 (2023)\n"
      ]
    },
    {
      "cell_type": "code",
      "execution_count": null,
      "metadata": {
        "collapsed": false
      },
      "outputs": [],
      "source": [
        "# Author: Gianvittorio Luria <luria@dima.unige.it>\n#\n# License: BSD (3-clause)\n\n# sphinx_gallery_thumbnail_number = 2\n\nimport numpy as np\nimport scipy.io as sio\nimport scipy.spatial.distance as ssd\nimport matplotlib.pyplot as plt\nfrom sesameeg import Sesame"
      ]
    },
    {
      "cell_type": "markdown",
      "metadata": {},
      "source": [
        "Import the MATLAB data structure and extract the single quantities.\n\n"
      ]
    },
    {
      "cell_type": "code",
      "execution_count": null,
      "metadata": {
        "collapsed": false
      },
      "outputs": [],
      "source": [
        "data_mat = sio.loadmat('data/sub-01_run-07_data.mat')\n\nsource_space = data_mat['src_coo']\ngood_chs = data_mat['good_chs'][0] - 1\nlead_field = data_mat['LF'][good_chs]\ndata = data_mat['evoked']\ndata_times = data_mat['times'][0]\ntrue_coords = np.array([0.034775, -0.00336, 0.039735])\ntrue_sources = [np.argmin(ssd.cdist(source_space, true_coords.reshape(1, -1))[:, 0])]"
      ]
    },
    {
      "cell_type": "markdown",
      "metadata": {},
      "source": [
        "Define the parameters.\n\n"
      ]
    },
    {
      "cell_type": "code",
      "execution_count": null,
      "metadata": {
        "collapsed": false
      },
      "outputs": [],
      "source": [
        "sample_min, sample_max = 12, 24\nsubsample = None\n\n# To accelerate the run time of this example, we use a small number of\n# particles. We recall that the parameter ``n_parts`` represents, roughly speaking,\n# the number of candidate solutions that are tested in the Monte Carlo procedure;\n# larger values yield in principle more accurate reconstructions but also entail a\n# higher computational cost. Setting the value to about a hundred seems to represent\n# a good trade\u2013off.\nn_parts = 10\n# If None, noise_std and dip_mom_std will be estimated by SESAME.\nnoise_std = None\ndip_mom_std = None"
      ]
    },
    {
      "cell_type": "markdown",
      "metadata": {},
      "source": [
        "Visualize the selected data.\n\n"
      ]
    },
    {
      "cell_type": "code",
      "execution_count": null,
      "metadata": {
        "collapsed": false
      },
      "outputs": [],
      "source": [
        "plt.figure(figsize=(25,8))\nplt.plot(data_times, data.T, label='EEG data')\nplt.axvspan(data_times[sample_min], data_times[sample_max], alpha=0.2, label='Analyzed data')\nplt.xlabel('Time')\nplt.title(f'EEG Data ({data.shape[0]} channels)')\nplt.show()"
      ]
    },
    {
      "cell_type": "markdown",
      "metadata": {},
      "source": [
        "Apply SESAME.\n\n"
      ]
    },
    {
      "cell_type": "code",
      "execution_count": null,
      "metadata": {
        "collapsed": false
      },
      "outputs": [],
      "source": [
        "_sesame = Sesame(source_space, lead_field, data, n_parts=n_parts, noise_std=noise_std,\n                 s_max=sample_max, s_min=sample_min, dip_mom_std=dip_mom_std,\n                 hyper_q=True, subsample=subsample, data_times=data_times)\n\n_sesame.apply_sesame()\n\n# Compute goodness of fit\ngof = _sesame.goodness_of_fit()\nprint('    Goodness of fit with the recorded data: {0}%'.format(round(gof, 4) * 100))\n\n# Compute source dispersion\nsd = _sesame.source_dispersion()\nprint('    Source Dispersion: {0} mm'.format(round(sd, 2)))\n\n# Compute distance to true source\ndistance = ssd.cdist(source_space[_sesame.est_locs[-1][0]].reshape(1,-1), true_coords.reshape(1,-1))[0][0]\nprint('    Distance to true source: {0} mm'.format(round(distance*1000, 2)))"
      ]
    },
    {
      "cell_type": "markdown",
      "metadata": {},
      "source": [
        "Visualize the posterior map of the dipoles' location\n$p(r| \\textbf{y}, 2)$ and the estimated sources on the inflated brain.\n\n"
      ]
    },
    {
      "cell_type": "code",
      "execution_count": null,
      "metadata": {
        "collapsed": false
      },
      "outputs": [],
      "source": [
        "_sesame.plot_sources(true_sources=true_sources)"
      ]
    },
    {
      "cell_type": "markdown",
      "metadata": {},
      "source": [
        "Visualize the amplitude of the estimated sources as function of time.\n\n"
      ]
    },
    {
      "cell_type": "code",
      "execution_count": null,
      "metadata": {
        "collapsed": false
      },
      "outputs": [],
      "source": [
        "_sesame.plot_source_amplitudes()"
      ]
    },
    {
      "cell_type": "markdown",
      "metadata": {},
      "source": [
        "Save results.\n\n"
      ]
    },
    {
      "cell_type": "code",
      "execution_count": null,
      "metadata": {
        "collapsed": false
      },
      "outputs": [],
      "source": [
        "# You can save SESAME result in an HDF5 file with:\n# _sesame.save_h5(save_fname, sbj=subject, data_path=fname_evoked, fwd_path=fname_fwd)\n\n# You can save SESAME result in a Pickle file with:\n# _sesame.save_pkl(save_fname, sbj=subject, data_path=fname_evoked, fwd_path=fname_fwd)"
      ]
    }
  ],
  "metadata": {
    "kernelspec": {
      "display_name": "Python 3",
      "language": "python",
      "name": "python3"
    },
    "language_info": {
      "codemirror_mode": {
        "name": "ipython",
        "version": 3
      },
      "file_extension": ".py",
      "mimetype": "text/x-python",
      "name": "python",
      "nbconvert_exporter": "python",
      "pygments_lexer": "ipython3",
      "version": "3.9.21"
    }
  },
  "nbformat": 4,
  "nbformat_minor": 0
}