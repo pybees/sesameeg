{
  "cells": [
    {
      "cell_type": "markdown",
      "metadata": {},
      "source": [
        "\n# Explore SESAME alternative inverse solutions on evoked data\n\nIn this example we shall show that SESAME is able to provide alternative solutions\nwith non-negligible probabilities and how the user can easily explore all of them.\n\nTo do so, we shall once again apply SESAME on an evoked dataset,\ncorresponding to the response to an auditory stimulus. Data are taken from the MNE-Python\n[sample](https://mne.tools/stable/generated/mne.datasets.sample.data_path.html#mne.datasets.sample.data_path)\ndataset.\n"
      ]
    },
    {
      "cell_type": "code",
      "execution_count": null,
      "metadata": {
        "collapsed": false
      },
      "outputs": [],
      "source": [
        "# Author: Gianvittorio Luria <luria@dima.unige.it>\n#\n# License: BSD (3-clause)\n\n# sphinx_gallery_thumbnail_number = 2\n\nfrom os import path as op\nimport numpy as np\nimport matplotlib.pyplot as plt\n\nfrom mne.datasets import sample\nfrom mne import read_forward_solution, pick_types_forward, read_evokeds\n\nfrom sesameeg.mne import prepare_sesame\n\ndata_path = sample.data_path()\nsubject = 'sample'\nsubjects_dir = op.join(data_path, 'subjects')\nfname_fwd = op.join(data_path, 'MEG', subject,\n                    'sample_audvis-meg-eeg-oct-6-fwd.fif')\nfname_evoked = op.join(data_path, 'MEG', subject, 'sample_audvis-ave.fif')"
      ]
    },
    {
      "cell_type": "markdown",
      "metadata": {},
      "source": [
        "Load the forward solution  $\\textbf{G}$  and the evoked data\n$\\textbf{y}$.\nThe forward solution also defines the employed brain discretization.\n\n"
      ]
    },
    {
      "cell_type": "code",
      "execution_count": null,
      "metadata": {
        "collapsed": false
      },
      "outputs": [],
      "source": [
        "meg_sensor_type = True  # All MEG sensors will be included\neeg_sensor_type = False\n\n# Forward solution\nfwd = read_forward_solution(fname_fwd, exclude='bads')\nfwd = pick_types_forward(fwd, meg=meg_sensor_type,\n                         eeg=eeg_sensor_type, ref_meg=False)\n\n# Evoked Data\ncondition = 'Left Auditory'\nevoked = read_evokeds(fname_evoked, condition=condition, baseline=(None, 0))\nevoked = evoked.pick('meg', exclude='bads')"
      ]
    },
    {
      "cell_type": "markdown",
      "metadata": {},
      "source": [
        "Define the parameters.\n\n"
      ]
    },
    {
      "cell_type": "code",
      "execution_count": null,
      "metadata": {
        "collapsed": false
      },
      "outputs": [],
      "source": [
        "time_min, time_max = 0.045, 0.135  # Select N100m\nsample_min, sample_max = evoked.time_as_index([time_min, time_max],\n                                              use_rounding=True)\n\n# Fix the random seed\nnp.random.seed(3)\n\n# Manually set the noise standard deviation value. We are intentionally\n# overestimating the parameter with respect to SESAME\u2019s default.\nnoise_std = 0.64 * np.max(abs(evoked.data))\n\n# If None, dip_mom_std will be estimated by SESAME.\ndip_mom_std = None"
      ]
    },
    {
      "cell_type": "markdown",
      "metadata": {},
      "source": [
        "Visualize the selected data.\n\n"
      ]
    },
    {
      "cell_type": "code",
      "execution_count": null,
      "metadata": {
        "collapsed": false
      },
      "outputs": [],
      "source": [
        "fig = evoked.plot(show=False)\nfor ax in fig.get_axes()[:2]:\n    ax.axvspan(time_min, time_max, alpha=0.3, color=\"#66CCEE\")\nplt.show()"
      ]
    },
    {
      "cell_type": "markdown",
      "metadata": {},
      "source": [
        "Apply SESAME.\n\n"
      ]
    },
    {
      "cell_type": "code",
      "execution_count": null,
      "metadata": {
        "collapsed": false
      },
      "outputs": [],
      "source": [
        "_sesame = prepare_sesame(fwd, evoked, noise_std=noise_std,\n                         top_min=time_min, top_max=time_max,\n                         dip_mom_std=dip_mom_std, hyper_q=True,\n                         subject=subject, subjects_dir=subjects_dir)\n_sesame.apply_sesame()\n\n\n# Compute goodness of fit\ngof = _sesame.goodness_of_fit()\nprint('    Goodness of fit with the recorded data: {0}%'.format(round(gof, 4) * 100))\n\n# Compute source dispersion\nsd = _sesame.source_dispersion()\nprint('    Source Dispersion: {0} mm'.format(round(sd, 2)))"
      ]
    },
    {
      "cell_type": "markdown",
      "metadata": {},
      "source": [
        "Visualize the marginal probability of the number of sources\n\n"
      ]
    },
    {
      "cell_type": "code",
      "execution_count": null,
      "metadata": {
        "collapsed": false
      },
      "outputs": [],
      "source": [
        "_sesame.plot_source_number(kind='pie')"
      ]
    },
    {
      "cell_type": "markdown",
      "metadata": {},
      "source": [
        "Visualize the posterior map of the dipoles' location\n$p(r| \\textbf{y}, 2)$ and the estimated sources on the inflated brain.\n\n"
      ]
    },
    {
      "cell_type": "code",
      "execution_count": null,
      "metadata": {
        "collapsed": false
      },
      "outputs": [],
      "source": [
        "_sesame.plot_sources(plot_kwargs={'distance': 650})"
      ]
    },
    {
      "cell_type": "markdown",
      "metadata": {},
      "source": [
        "Visualize the amplitude of the estimated sources as function of time.\n\n"
      ]
    },
    {
      "cell_type": "code",
      "execution_count": null,
      "metadata": {
        "collapsed": false
      },
      "outputs": [],
      "source": [
        "_sesame.plot_source_amplitudes()"
      ]
    },
    {
      "cell_type": "markdown",
      "metadata": {},
      "source": [
        "Explore the alternative scenario\n\n"
      ]
    },
    {
      "cell_type": "code",
      "execution_count": null,
      "metadata": {
        "collapsed": false
      },
      "outputs": [],
      "source": [
        "_sesame.plot_sources(n_sources=2, plot_kwargs={'distance': 650})\n_sesame.plot_source_amplitudes(n_sources=2)"
      ]
    }
  ],
  "metadata": {
    "kernelspec": {
      "display_name": "Python 3",
      "language": "python",
      "name": "python3"
    },
    "language_info": {
      "codemirror_mode": {
        "name": "ipython",
        "version": 3
      },
      "file_extension": ".py",
      "mimetype": "text/x-python",
      "name": "python",
      "nbconvert_exporter": "python",
      "pygments_lexer": "ipython3",
      "version": "3.9.21"
    }
  },
  "nbformat": 4,
  "nbformat_minor": 0
}